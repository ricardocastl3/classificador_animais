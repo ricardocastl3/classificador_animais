{
 "cells": [
  {
   "cell_type": "code",
   "execution_count": 1,
   "metadata": {},
   "outputs": [
    {
     "data": {
      "text/html": [
       "<div>\n",
       "<style scoped>\n",
       "    .dataframe tbody tr th:only-of-type {\n",
       "        vertical-align: middle;\n",
       "    }\n",
       "\n",
       "    .dataframe tbody tr th {\n",
       "        vertical-align: top;\n",
       "    }\n",
       "\n",
       "    .dataframe thead th {\n",
       "        text-align: right;\n",
       "    }\n",
       "</style>\n",
       "<table border=\"1\" class=\"dataframe\">\n",
       "  <thead>\n",
       "    <tr style=\"text-align: right;\">\n",
       "      <th></th>\n",
       "      <th>pelo_longo</th>\n",
       "      <th>perna_longa</th>\n",
       "      <th>orelha_pequena</th>\n",
       "      <th>faz_miau</th>\n",
       "      <th>animal</th>\n",
       "    </tr>\n",
       "  </thead>\n",
       "  <tbody>\n",
       "    <tr>\n",
       "      <th>0</th>\n",
       "      <td>0</td>\n",
       "      <td>1</td>\n",
       "      <td>1</td>\n",
       "      <td>0</td>\n",
       "      <td>cachorro</td>\n",
       "    </tr>\n",
       "    <tr>\n",
       "      <th>1</th>\n",
       "      <td>1</td>\n",
       "      <td>1</td>\n",
       "      <td>1</td>\n",
       "      <td>0</td>\n",
       "      <td>cachorro</td>\n",
       "    </tr>\n",
       "    <tr>\n",
       "      <th>2</th>\n",
       "      <td>0</td>\n",
       "      <td>0</td>\n",
       "      <td>0</td>\n",
       "      <td>1</td>\n",
       "      <td>gato</td>\n",
       "    </tr>\n",
       "    <tr>\n",
       "      <th>3</th>\n",
       "      <td>1</td>\n",
       "      <td>0</td>\n",
       "      <td>1</td>\n",
       "      <td>1</td>\n",
       "      <td>gato</td>\n",
       "    </tr>\n",
       "    <tr>\n",
       "      <th>4</th>\n",
       "      <td>0</td>\n",
       "      <td>0</td>\n",
       "      <td>0</td>\n",
       "      <td>0</td>\n",
       "      <td>cachorro</td>\n",
       "    </tr>\n",
       "  </tbody>\n",
       "</table>\n",
       "</div>"
      ],
      "text/plain": [
       "   pelo_longo  perna_longa  orelha_pequena  faz_miau    animal\n",
       "0           0            1               1         0  cachorro\n",
       "1           1            1               1         0  cachorro\n",
       "2           0            0               0         1      gato\n",
       "3           1            0               1         1      gato\n",
       "4           0            0               0         0  cachorro"
      ]
     },
     "execution_count": 1,
     "metadata": {},
     "output_type": "execute_result"
    }
   ],
   "source": [
    "# \n",
    "# Author: Ricardo Castle\n",
    "# Facebook: www.facebook.com/rcastledev\n",
    "# Instagram: @ricardocodex\n",
    "# Language: Python\n",
    "# Name: Classificador de animais\n",
    "\n",
    "# Importando a biblioteca pandas\n",
    "import pandas as pd\n",
    "\n",
    "# Carregando o dataset\n",
    "datas = pd.read_csv(\"dogcat-dataset.csv\")\n",
    "datas.head()"
   ]
  },
  {
   "cell_type": "code",
   "execution_count": 2,
   "metadata": {},
   "outputs": [
    {
     "data": {
      "text/html": [
       "<div>\n",
       "<style scoped>\n",
       "    .dataframe tbody tr th:only-of-type {\n",
       "        vertical-align: middle;\n",
       "    }\n",
       "\n",
       "    .dataframe tbody tr th {\n",
       "        vertical-align: top;\n",
       "    }\n",
       "\n",
       "    .dataframe thead th {\n",
       "        text-align: right;\n",
       "    }\n",
       "</style>\n",
       "<table border=\"1\" class=\"dataframe\">\n",
       "  <thead>\n",
       "    <tr style=\"text-align: right;\">\n",
       "      <th></th>\n",
       "      <th>pelo_longo</th>\n",
       "      <th>perna_longa</th>\n",
       "      <th>orelha_pequena</th>\n",
       "      <th>faz_miau</th>\n",
       "      <th>animal</th>\n",
       "    </tr>\n",
       "  </thead>\n",
       "  <tbody>\n",
       "    <tr>\n",
       "      <th>0</th>\n",
       "      <td>0</td>\n",
       "      <td>1</td>\n",
       "      <td>1</td>\n",
       "      <td>0</td>\n",
       "      <td>1</td>\n",
       "    </tr>\n",
       "    <tr>\n",
       "      <th>1</th>\n",
       "      <td>1</td>\n",
       "      <td>1</td>\n",
       "      <td>1</td>\n",
       "      <td>0</td>\n",
       "      <td>1</td>\n",
       "    </tr>\n",
       "    <tr>\n",
       "      <th>2</th>\n",
       "      <td>0</td>\n",
       "      <td>0</td>\n",
       "      <td>0</td>\n",
       "      <td>1</td>\n",
       "      <td>0</td>\n",
       "    </tr>\n",
       "    <tr>\n",
       "      <th>3</th>\n",
       "      <td>1</td>\n",
       "      <td>0</td>\n",
       "      <td>1</td>\n",
       "      <td>1</td>\n",
       "      <td>0</td>\n",
       "    </tr>\n",
       "    <tr>\n",
       "      <th>4</th>\n",
       "      <td>0</td>\n",
       "      <td>0</td>\n",
       "      <td>0</td>\n",
       "      <td>0</td>\n",
       "      <td>1</td>\n",
       "    </tr>\n",
       "  </tbody>\n",
       "</table>\n",
       "</div>"
      ],
      "text/plain": [
       "   pelo_longo  perna_longa  orelha_pequena  faz_miau  animal\n",
       "0           0            1               1         0       1\n",
       "1           1            1               1         0       1\n",
       "2           0            0               0         1       0\n",
       "3           1            0               1         1       0\n",
       "4           0            0               0         0       1"
      ]
     },
     "execution_count": 2,
     "metadata": {},
     "output_type": "execute_result"
    }
   ],
   "source": [
    "# Alterando os valores da coluna animal, de letras para números\n",
    "# Ou seja, o gato passa para 0, e o cachorro para 1 \n",
    "\n",
    "troca = {\n",
    "     \"cachorro\": 1,\n",
    "     \"gato\": 0\n",
    " }\n",
    "datas.animal = datas.animal.map(troca)\n",
    "datas.head()"
   ]
  },
  {
   "cell_type": "code",
   "execution_count": 3,
   "metadata": {},
   "outputs": [],
   "source": [
    "x = datas[[\"pelo_longo\", \"perna_longa\", \"orelha_pequena\", \"faz_miau\"]]\n",
    "y = datas[\"animal\"]"
   ]
  },
  {
   "cell_type": "code",
   "execution_count": 4,
   "metadata": {},
   "outputs": [
    {
     "name": "stdout",
     "output_type": "stream",
     "text": [
      "A acurácia é de 100.00%\n"
     ]
    }
   ],
   "source": [
    "# Carregando bibliotecas necessárias o modelo\n",
    "from sklearn.metrics import accuracy_score\n",
    "from sklearn.model_selection import train_test_split\n",
    "from sklearn.svm import LinearSVC\n",
    "import numpy as bp\n",
    "\n",
    "treino_x, teste_x, treino_y, teste_y = train_test_split(x, y, test_size=0.25,\n",
    "                                                       random_state=25)\n",
    "model = LinearSVC()\n",
    "model.fit(treino_x, treino_y)\n",
    "\n",
    "previsoes = model.predict(teste_x)\n",
    "\n",
    "accuracy = accuracy_score(teste_y, previsoes) * 100\n",
    "print(\"A acurácia é de %.2f%%\" % accuracy)\n"
   ]
  },
  {
   "cell_type": "code",
   "execution_count": 5,
   "metadata": {},
   "outputs": [
    {
     "name": "stdout",
     "output_type": "stream",
     "text": [
      "Gato\n",
      "Cachorro\n"
     ]
    }
   ],
   "source": [
    "# Testando o modelo com outros dados\n",
    "# pelo_longo\tperna_longa\torelha_pequena\tfaz_miau\tanimal\n",
    "\n",
    "anim_mist1 = [1, 1, 0, 1]\n",
    "anim_mist2 = [0, 0, 0, 0]\n",
    "\n",
    "teste_animais = [anim_mist1, anim_mist2]\n",
    "\n",
    "nova_prev = model.predict(teste_animais)\n",
    "nova_prev\n",
    "\n",
    "# Convertendo a saída binária para o nome dos animais\n",
    "for i in range(0, len(nova_prev)):\n",
    "    if i == nova_prev[i]:\n",
    "        if i == 1:\n",
    "            print(\"Cachorro\")\n",
    "        else:\n",
    "            print(\"Gato\")"
   ]
  },
  {
   "cell_type": "code",
   "execution_count": null,
   "metadata": {},
   "outputs": [],
   "source": []
  },
  {
   "cell_type": "code",
   "execution_count": null,
   "metadata": {},
   "outputs": [],
   "source": []
  }
 ],
 "metadata": {
  "kernelspec": {
   "display_name": "Python 3",
   "language": "python",
   "name": "python3"
  },
  "language_info": {
   "codemirror_mode": {
    "name": "ipython",
    "version": 3
   },
   "file_extension": ".py",
   "mimetype": "text/x-python",
   "name": "python",
   "nbconvert_exporter": "python",
   "pygments_lexer": "ipython3",
   "version": "3.8.3"
  }
 },
 "nbformat": 4,
 "nbformat_minor": 4
}
